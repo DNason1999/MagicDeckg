{
 "cells": [
  {
   "cell_type": "code",
   "execution_count": 2,
   "metadata": {},
   "outputs": [],
   "source": [
    "import requests as r\n",
    "import pandas as pd\n",
    "import numpy as np\n",
    "import random"
   ]
  },
  {
   "cell_type": "code",
   "execution_count": 3,
   "metadata": {},
   "outputs": [],
   "source": [
    "df = pd.read_json('oracle-cards-20210309220412.json')"
   ]
  },
  {
   "cell_type": "code",
   "execution_count": 4,
   "metadata": {},
   "outputs": [
    {
     "output_type": "execute_result",
     "data": {
      "text/plain": [
       "  object                                    id  \\\n",
       "0   card  86bf43b1-8d4e-4759-bb2d-0b2e03ba7012   \n",
       "1   card  7050735c-b232-47a6-a342-01795bfd0d46   \n",
       "2   card  e718b21b-46d1-4844-985c-52745657b1ac   \n",
       "3   card  036ef8c9-72ac-46ce-af07-83b79d736538   \n",
       "4   card  b125d1e7-5d9b-4997-88b0-71bdfc19c6f2   \n",
       "\n",
       "                              oracle_id multiverse_ids  mtgo_id  mtgo_foil_id  \\\n",
       "0  0004ebd0-dfd6-4276-b4a6-de0003e94237        [15862]  15870.0       15871.0   \n",
       "1  0006faf6-7a61-426c-9034-579f2cfcfa83       [370780]  49283.0       49284.0   \n",
       "2  0007c283-5b7a-4c00-9ca1-b455c8dff8c3       [470580]  77122.0           NaN   \n",
       "3  000d5588-5a4c-434e-988d-396632ade42c        [83282]  22609.0       22610.0   \n",
       "4  000e5d65-96c3-498b-bd01-72b1a1991850        [12380]  12637.0       12638.0   \n",
       "\n",
       "   tcgplayer_id  cardmarket_id                 name lang  ... promo_types  \\\n",
       "0        3094.0         3081.0           Static Orb   en  ...         NaN   \n",
       "1       69965.0       262945.0  Sensory Deprivation   en  ...         NaN   \n",
       "2      196536.0       391692.0       Road of Return   en  ...         NaN   \n",
       "3       12835.0        12551.0           Storm Crow   en  ...         NaN   \n",
       "4        6412.0        10604.0       Walking Sponge   en  ...         NaN   \n",
       "\n",
       "  life_modifier hand_modifier loyalty  color_indicator content_warning  \\\n",
       "0           NaN           NaN     NaN              NaN             NaN   \n",
       "1           NaN           NaN     NaN              NaN             NaN   \n",
       "2           NaN           NaN     NaN              NaN             NaN   \n",
       "3           NaN           NaN     NaN              NaN             NaN   \n",
       "4           NaN           NaN     NaN              NaN             NaN   \n",
       "\n",
       "  printed_name flavor_name  printed_type_line printed_text  \n",
       "0          NaN         NaN                NaN          NaN  \n",
       "1          NaN         NaN                NaN          NaN  \n",
       "2          NaN         NaN                NaN          NaN  \n",
       "3          NaN         NaN                NaN          NaN  \n",
       "4          NaN         NaN                NaN          NaN  \n",
       "\n",
       "[5 rows x 77 columns]"
      ],
      "text/html": "<div>\n<style scoped>\n    .dataframe tbody tr th:only-of-type {\n        vertical-align: middle;\n    }\n\n    .dataframe tbody tr th {\n        vertical-align: top;\n    }\n\n    .dataframe thead th {\n        text-align: right;\n    }\n</style>\n<table border=\"1\" class=\"dataframe\">\n  <thead>\n    <tr style=\"text-align: right;\">\n      <th></th>\n      <th>object</th>\n      <th>id</th>\n      <th>oracle_id</th>\n      <th>multiverse_ids</th>\n      <th>mtgo_id</th>\n      <th>mtgo_foil_id</th>\n      <th>tcgplayer_id</th>\n      <th>cardmarket_id</th>\n      <th>name</th>\n      <th>lang</th>\n      <th>...</th>\n      <th>promo_types</th>\n      <th>life_modifier</th>\n      <th>hand_modifier</th>\n      <th>loyalty</th>\n      <th>color_indicator</th>\n      <th>content_warning</th>\n      <th>printed_name</th>\n      <th>flavor_name</th>\n      <th>printed_type_line</th>\n      <th>printed_text</th>\n    </tr>\n  </thead>\n  <tbody>\n    <tr>\n      <th>0</th>\n      <td>card</td>\n      <td>86bf43b1-8d4e-4759-bb2d-0b2e03ba7012</td>\n      <td>0004ebd0-dfd6-4276-b4a6-de0003e94237</td>\n      <td>[15862]</td>\n      <td>15870.0</td>\n      <td>15871.0</td>\n      <td>3094.0</td>\n      <td>3081.0</td>\n      <td>Static Orb</td>\n      <td>en</td>\n      <td>...</td>\n      <td>NaN</td>\n      <td>NaN</td>\n      <td>NaN</td>\n      <td>NaN</td>\n      <td>NaN</td>\n      <td>NaN</td>\n      <td>NaN</td>\n      <td>NaN</td>\n      <td>NaN</td>\n      <td>NaN</td>\n    </tr>\n    <tr>\n      <th>1</th>\n      <td>card</td>\n      <td>7050735c-b232-47a6-a342-01795bfd0d46</td>\n      <td>0006faf6-7a61-426c-9034-579f2cfcfa83</td>\n      <td>[370780]</td>\n      <td>49283.0</td>\n      <td>49284.0</td>\n      <td>69965.0</td>\n      <td>262945.0</td>\n      <td>Sensory Deprivation</td>\n      <td>en</td>\n      <td>...</td>\n      <td>NaN</td>\n      <td>NaN</td>\n      <td>NaN</td>\n      <td>NaN</td>\n      <td>NaN</td>\n      <td>NaN</td>\n      <td>NaN</td>\n      <td>NaN</td>\n      <td>NaN</td>\n      <td>NaN</td>\n    </tr>\n    <tr>\n      <th>2</th>\n      <td>card</td>\n      <td>e718b21b-46d1-4844-985c-52745657b1ac</td>\n      <td>0007c283-5b7a-4c00-9ca1-b455c8dff8c3</td>\n      <td>[470580]</td>\n      <td>77122.0</td>\n      <td>NaN</td>\n      <td>196536.0</td>\n      <td>391692.0</td>\n      <td>Road of Return</td>\n      <td>en</td>\n      <td>...</td>\n      <td>NaN</td>\n      <td>NaN</td>\n      <td>NaN</td>\n      <td>NaN</td>\n      <td>NaN</td>\n      <td>NaN</td>\n      <td>NaN</td>\n      <td>NaN</td>\n      <td>NaN</td>\n      <td>NaN</td>\n    </tr>\n    <tr>\n      <th>3</th>\n      <td>card</td>\n      <td>036ef8c9-72ac-46ce-af07-83b79d736538</td>\n      <td>000d5588-5a4c-434e-988d-396632ade42c</td>\n      <td>[83282]</td>\n      <td>22609.0</td>\n      <td>22610.0</td>\n      <td>12835.0</td>\n      <td>12551.0</td>\n      <td>Storm Crow</td>\n      <td>en</td>\n      <td>...</td>\n      <td>NaN</td>\n      <td>NaN</td>\n      <td>NaN</td>\n      <td>NaN</td>\n      <td>NaN</td>\n      <td>NaN</td>\n      <td>NaN</td>\n      <td>NaN</td>\n      <td>NaN</td>\n      <td>NaN</td>\n    </tr>\n    <tr>\n      <th>4</th>\n      <td>card</td>\n      <td>b125d1e7-5d9b-4997-88b0-71bdfc19c6f2</td>\n      <td>000e5d65-96c3-498b-bd01-72b1a1991850</td>\n      <td>[12380]</td>\n      <td>12637.0</td>\n      <td>12638.0</td>\n      <td>6412.0</td>\n      <td>10604.0</td>\n      <td>Walking Sponge</td>\n      <td>en</td>\n      <td>...</td>\n      <td>NaN</td>\n      <td>NaN</td>\n      <td>NaN</td>\n      <td>NaN</td>\n      <td>NaN</td>\n      <td>NaN</td>\n      <td>NaN</td>\n      <td>NaN</td>\n      <td>NaN</td>\n      <td>NaN</td>\n    </tr>\n  </tbody>\n</table>\n<p>5 rows × 77 columns</p>\n</div>"
     },
     "metadata": {},
     "execution_count": 4
    }
   ],
   "source": [
    "df.head()"
   ]
  },
  {
   "cell_type": "code",
   "execution_count": 5,
   "metadata": {},
   "outputs": [
    {
     "output_type": "execute_result",
     "data": {
      "text/plain": [
       "Index(['object', 'id', 'oracle_id', 'multiverse_ids', 'mtgo_id',\n",
       "       'mtgo_foil_id', 'tcgplayer_id', 'cardmarket_id', 'name', 'lang',\n",
       "       'released_at', 'uri', 'scryfall_uri', 'layout', 'highres_image',\n",
       "       'image_status', 'image_uris', 'mana_cost', 'cmc', 'type_line',\n",
       "       'oracle_text', 'colors', 'color_identity', 'keywords', 'legalities',\n",
       "       'games', 'reserved', 'foil', 'nonfoil', 'oversized', 'promo', 'reprint',\n",
       "       'variation', 'set', 'set_name', 'set_type', 'set_uri', 'set_search_uri',\n",
       "       'scryfall_set_uri', 'rulings_uri', 'prints_search_uri',\n",
       "       'collector_number', 'digital', 'rarity', 'flavor_text', 'card_back_id',\n",
       "       'artist', 'artist_ids', 'illustration_id', 'border_color', 'frame',\n",
       "       'full_art', 'textless', 'booster', 'story_spotlight', 'edhrec_rank',\n",
       "       'prices', 'related_uris', 'preview', 'power', 'toughness', 'arena_id',\n",
       "       'watermark', 'produced_mana', 'all_parts', 'card_faces',\n",
       "       'frame_effects', 'promo_types', 'life_modifier', 'hand_modifier',\n",
       "       'loyalty', 'color_indicator', 'content_warning', 'printed_name',\n",
       "       'flavor_name', 'printed_type_line', 'printed_text'],\n",
       "      dtype='object')"
      ]
     },
     "metadata": {},
     "execution_count": 5
    }
   ],
   "source": [
    "df.columns"
   ]
  },
  {
   "cell_type": "code",
   "execution_count": 6,
   "metadata": {},
   "outputs": [],
   "source": [
    "keep_columns = ['id','name','scryfall_uri','cmc','colors','color_identity','set','rarity','power','toughness','loyalty','legalities','card_faces','type_line']"
   ]
  },
  {
   "cell_type": "code",
   "execution_count": 7,
   "metadata": {},
   "outputs": [],
   "source": [
    "kept_df = df[keep_columns].copy()"
   ]
  },
  {
   "cell_type": "code",
   "execution_count": 8,
   "metadata": {},
   "outputs": [
    {
     "output_type": "execute_result",
     "data": {
      "text/plain": [
       "                                     id                 name  \\\n",
       "0  86bf43b1-8d4e-4759-bb2d-0b2e03ba7012           Static Orb   \n",
       "1  7050735c-b232-47a6-a342-01795bfd0d46  Sensory Deprivation   \n",
       "2  e718b21b-46d1-4844-985c-52745657b1ac       Road of Return   \n",
       "3  036ef8c9-72ac-46ce-af07-83b79d736538           Storm Crow   \n",
       "4  b125d1e7-5d9b-4997-88b0-71bdfc19c6f2       Walking Sponge   \n",
       "\n",
       "                                        scryfall_uri  cmc colors  \\\n",
       "0  https://scryfall.com/card/7ed/319/static-orb?u...  3.0     []   \n",
       "1  https://scryfall.com/card/m14/71/sensory-depri...  1.0    [U]   \n",
       "2  https://scryfall.com/card/c19/34/road-of-retur...  2.0    [G]   \n",
       "3  https://scryfall.com/card/9ed/100/storm-crow?u...  2.0    [U]   \n",
       "4  https://scryfall.com/card/ulg/47/walking-spong...  2.0    [U]   \n",
       "\n",
       "  color_identity  set    rarity power toughness loyalty  \\\n",
       "0             []  7ed      rare   NaN       NaN     NaN   \n",
       "1            [U]  m14    common   NaN       NaN     NaN   \n",
       "2            [G]  c19      rare   NaN       NaN     NaN   \n",
       "3            [U]  9ed    common     1         2     NaN   \n",
       "4            [U]  ulg  uncommon     1         1     NaN   \n",
       "\n",
       "                                          legalities card_faces  \\\n",
       "0  {'standard': 'not_legal', 'future': 'not_legal...        NaN   \n",
       "1  {'standard': 'not_legal', 'future': 'not_legal...        NaN   \n",
       "2  {'standard': 'not_legal', 'future': 'not_legal...        NaN   \n",
       "3  {'standard': 'not_legal', 'future': 'not_legal...        NaN   \n",
       "4  {'standard': 'not_legal', 'future': 'not_legal...        NaN   \n",
       "\n",
       "            type_line  \n",
       "0            Artifact  \n",
       "1  Enchantment — Aura  \n",
       "2             Sorcery  \n",
       "3     Creature — Bird  \n",
       "4   Creature — Sponge  "
      ],
      "text/html": "<div>\n<style scoped>\n    .dataframe tbody tr th:only-of-type {\n        vertical-align: middle;\n    }\n\n    .dataframe tbody tr th {\n        vertical-align: top;\n    }\n\n    .dataframe thead th {\n        text-align: right;\n    }\n</style>\n<table border=\"1\" class=\"dataframe\">\n  <thead>\n    <tr style=\"text-align: right;\">\n      <th></th>\n      <th>id</th>\n      <th>name</th>\n      <th>scryfall_uri</th>\n      <th>cmc</th>\n      <th>colors</th>\n      <th>color_identity</th>\n      <th>set</th>\n      <th>rarity</th>\n      <th>power</th>\n      <th>toughness</th>\n      <th>loyalty</th>\n      <th>legalities</th>\n      <th>card_faces</th>\n      <th>type_line</th>\n    </tr>\n  </thead>\n  <tbody>\n    <tr>\n      <th>0</th>\n      <td>86bf43b1-8d4e-4759-bb2d-0b2e03ba7012</td>\n      <td>Static Orb</td>\n      <td>https://scryfall.com/card/7ed/319/static-orb?u...</td>\n      <td>3.0</td>\n      <td>[]</td>\n      <td>[]</td>\n      <td>7ed</td>\n      <td>rare</td>\n      <td>NaN</td>\n      <td>NaN</td>\n      <td>NaN</td>\n      <td>{'standard': 'not_legal', 'future': 'not_legal...</td>\n      <td>NaN</td>\n      <td>Artifact</td>\n    </tr>\n    <tr>\n      <th>1</th>\n      <td>7050735c-b232-47a6-a342-01795bfd0d46</td>\n      <td>Sensory Deprivation</td>\n      <td>https://scryfall.com/card/m14/71/sensory-depri...</td>\n      <td>1.0</td>\n      <td>[U]</td>\n      <td>[U]</td>\n      <td>m14</td>\n      <td>common</td>\n      <td>NaN</td>\n      <td>NaN</td>\n      <td>NaN</td>\n      <td>{'standard': 'not_legal', 'future': 'not_legal...</td>\n      <td>NaN</td>\n      <td>Enchantment — Aura</td>\n    </tr>\n    <tr>\n      <th>2</th>\n      <td>e718b21b-46d1-4844-985c-52745657b1ac</td>\n      <td>Road of Return</td>\n      <td>https://scryfall.com/card/c19/34/road-of-retur...</td>\n      <td>2.0</td>\n      <td>[G]</td>\n      <td>[G]</td>\n      <td>c19</td>\n      <td>rare</td>\n      <td>NaN</td>\n      <td>NaN</td>\n      <td>NaN</td>\n      <td>{'standard': 'not_legal', 'future': 'not_legal...</td>\n      <td>NaN</td>\n      <td>Sorcery</td>\n    </tr>\n    <tr>\n      <th>3</th>\n      <td>036ef8c9-72ac-46ce-af07-83b79d736538</td>\n      <td>Storm Crow</td>\n      <td>https://scryfall.com/card/9ed/100/storm-crow?u...</td>\n      <td>2.0</td>\n      <td>[U]</td>\n      <td>[U]</td>\n      <td>9ed</td>\n      <td>common</td>\n      <td>1</td>\n      <td>2</td>\n      <td>NaN</td>\n      <td>{'standard': 'not_legal', 'future': 'not_legal...</td>\n      <td>NaN</td>\n      <td>Creature — Bird</td>\n    </tr>\n    <tr>\n      <th>4</th>\n      <td>b125d1e7-5d9b-4997-88b0-71bdfc19c6f2</td>\n      <td>Walking Sponge</td>\n      <td>https://scryfall.com/card/ulg/47/walking-spong...</td>\n      <td>2.0</td>\n      <td>[U]</td>\n      <td>[U]</td>\n      <td>ulg</td>\n      <td>uncommon</td>\n      <td>1</td>\n      <td>1</td>\n      <td>NaN</td>\n      <td>{'standard': 'not_legal', 'future': 'not_legal...</td>\n      <td>NaN</td>\n      <td>Creature — Sponge</td>\n    </tr>\n  </tbody>\n</table>\n</div>"
     },
     "metadata": {},
     "execution_count": 8
    }
   ],
   "source": [
    "kept_df.head()"
   ]
  },
  {
   "cell_type": "code",
   "execution_count": 193,
   "metadata": {},
   "outputs": [],
   "source": [
    "kept_df.to_csv('encoded_cards.csv', index=False)"
   ]
  },
  {
   "cell_type": "code",
   "execution_count": 9,
   "metadata": {},
   "outputs": [],
   "source": [
    "def change_legalities(in_dict):\n",
    "    input_dict = in_dict.copy()\n",
    "    for key in input_dict:\n",
    "        if input_dict[key] == 'not_legal':\n",
    "            input_dict[key] = False\n",
    "        else:\n",
    "            input_dict[key] = True\n",
    "    \n",
    "    return input_dict"
   ]
  },
  {
   "cell_type": "code",
   "execution_count": 10,
   "metadata": {},
   "outputs": [],
   "source": [
    "kept_df['legalities_fixed'] = kept_df['legalities'].apply(change_legalities)"
   ]
  },
  {
   "cell_type": "code",
   "execution_count": 11,
   "metadata": {},
   "outputs": [],
   "source": [
    "colors = ['R','G','U','B','W']"
   ]
  },
  {
   "cell_type": "code",
   "execution_count": 12,
   "metadata": {},
   "outputs": [],
   "source": [
    "d = {x:[] for x in kept_df['legalities_fixed'][0]}\n",
    "for x in colors:\n",
    "    d[x] = []"
   ]
  },
  {
   "cell_type": "code",
   "execution_count": 13,
   "metadata": {
    "scrolled": true
   },
   "outputs": [],
   "source": [
    "for index, row in kept_df.iterrows():\n",
    "    for key in row['legalities_fixed']:\n",
    "        if row['legalities_fixed'][key]:\n",
    "            d[key].append(1)\n",
    "        else:\n",
    "            d[key].append(0)\n",
    "    try:\n",
    "        for x in colors:\n",
    "            if type(row['colors']) == float:\n",
    "                d[x].append(0)\n",
    "            elif x in row['colors']:\n",
    "                d[x].append(1)\n",
    "            else:\n",
    "                d[x].append(0)\n",
    "    except Exception as e:\n",
    "        print(f'{index} : {row[\"colors\"]}')"
   ]
  },
  {
   "cell_type": "code",
   "execution_count": 14,
   "metadata": {},
   "outputs": [],
   "source": [
    "for key in d:\n",
    "    kept_df[key] = d[key]"
   ]
  },
  {
   "cell_type": "code",
   "execution_count": 21,
   "metadata": {},
   "outputs": [],
   "source": [
    "kept_df.to_csv('transcribed_cards.csv', index=False)"
   ]
  },
  {
   "cell_type": "code",
   "execution_count": 44,
   "metadata": {},
   "outputs": [
    {
     "output_type": "execute_result",
     "data": {
      "text/plain": [
       "                                     id                 name  \\\n",
       "0  86bf43b1-8d4e-4759-bb2d-0b2e03ba7012           Static Orb   \n",
       "1  7050735c-b232-47a6-a342-01795bfd0d46  Sensory Deprivation   \n",
       "2  e718b21b-46d1-4844-985c-52745657b1ac       Road of Return   \n",
       "3  036ef8c9-72ac-46ce-af07-83b79d736538           Storm Crow   \n",
       "4  b125d1e7-5d9b-4997-88b0-71bdfc19c6f2       Walking Sponge   \n",
       "\n",
       "                                        scryfall_uri  cmc colors  \\\n",
       "0  https://scryfall.com/card/7ed/319/static-orb?u...  3.0     []   \n",
       "1  https://scryfall.com/card/m14/71/sensory-depri...  1.0    [U]   \n",
       "2  https://scryfall.com/card/c19/34/road-of-retur...  2.0    [G]   \n",
       "3  https://scryfall.com/card/9ed/100/storm-crow?u...  2.0    [U]   \n",
       "4  https://scryfall.com/card/ulg/47/walking-spong...  2.0    [U]   \n",
       "\n",
       "  color_identity  set    rarity power toughness  ... commander brawl duel  \\\n",
       "0             []  7ed      rare   NaN       NaN  ...         1     0    1   \n",
       "1            [U]  m14    common   NaN       NaN  ...         1     0    1   \n",
       "2            [G]  c19      rare   NaN       NaN  ...         1     0    1   \n",
       "3            [U]  9ed    common     1         2  ...         1     0    1   \n",
       "4            [U]  ulg  uncommon     1         1  ...         1     0    1   \n",
       "\n",
       "  oldschool premodern  R  G  U  B  W  \n",
       "0         0         1  0  0  0  0  0  \n",
       "1         0         0  0  0  1  0  0  \n",
       "2         0         0  0  1  0  0  0  \n",
       "3         0         1  0  0  1  0  0  \n",
       "4         0         1  0  0  1  0  0  \n",
       "\n",
       "[5 rows x 35 columns]"
      ],
      "text/html": "<div>\n<style scoped>\n    .dataframe tbody tr th:only-of-type {\n        vertical-align: middle;\n    }\n\n    .dataframe tbody tr th {\n        vertical-align: top;\n    }\n\n    .dataframe thead th {\n        text-align: right;\n    }\n</style>\n<table border=\"1\" class=\"dataframe\">\n  <thead>\n    <tr style=\"text-align: right;\">\n      <th></th>\n      <th>id</th>\n      <th>name</th>\n      <th>scryfall_uri</th>\n      <th>cmc</th>\n      <th>colors</th>\n      <th>color_identity</th>\n      <th>set</th>\n      <th>rarity</th>\n      <th>power</th>\n      <th>toughness</th>\n      <th>...</th>\n      <th>commander</th>\n      <th>brawl</th>\n      <th>duel</th>\n      <th>oldschool</th>\n      <th>premodern</th>\n      <th>R</th>\n      <th>G</th>\n      <th>U</th>\n      <th>B</th>\n      <th>W</th>\n    </tr>\n  </thead>\n  <tbody>\n    <tr>\n      <th>0</th>\n      <td>86bf43b1-8d4e-4759-bb2d-0b2e03ba7012</td>\n      <td>Static Orb</td>\n      <td>https://scryfall.com/card/7ed/319/static-orb?u...</td>\n      <td>3.0</td>\n      <td>[]</td>\n      <td>[]</td>\n      <td>7ed</td>\n      <td>rare</td>\n      <td>NaN</td>\n      <td>NaN</td>\n      <td>...</td>\n      <td>1</td>\n      <td>0</td>\n      <td>1</td>\n      <td>0</td>\n      <td>1</td>\n      <td>0</td>\n      <td>0</td>\n      <td>0</td>\n      <td>0</td>\n      <td>0</td>\n    </tr>\n    <tr>\n      <th>1</th>\n      <td>7050735c-b232-47a6-a342-01795bfd0d46</td>\n      <td>Sensory Deprivation</td>\n      <td>https://scryfall.com/card/m14/71/sensory-depri...</td>\n      <td>1.0</td>\n      <td>[U]</td>\n      <td>[U]</td>\n      <td>m14</td>\n      <td>common</td>\n      <td>NaN</td>\n      <td>NaN</td>\n      <td>...</td>\n      <td>1</td>\n      <td>0</td>\n      <td>1</td>\n      <td>0</td>\n      <td>0</td>\n      <td>0</td>\n      <td>0</td>\n      <td>1</td>\n      <td>0</td>\n      <td>0</td>\n    </tr>\n    <tr>\n      <th>2</th>\n      <td>e718b21b-46d1-4844-985c-52745657b1ac</td>\n      <td>Road of Return</td>\n      <td>https://scryfall.com/card/c19/34/road-of-retur...</td>\n      <td>2.0</td>\n      <td>[G]</td>\n      <td>[G]</td>\n      <td>c19</td>\n      <td>rare</td>\n      <td>NaN</td>\n      <td>NaN</td>\n      <td>...</td>\n      <td>1</td>\n      <td>0</td>\n      <td>1</td>\n      <td>0</td>\n      <td>0</td>\n      <td>0</td>\n      <td>1</td>\n      <td>0</td>\n      <td>0</td>\n      <td>0</td>\n    </tr>\n    <tr>\n      <th>3</th>\n      <td>036ef8c9-72ac-46ce-af07-83b79d736538</td>\n      <td>Storm Crow</td>\n      <td>https://scryfall.com/card/9ed/100/storm-crow?u...</td>\n      <td>2.0</td>\n      <td>[U]</td>\n      <td>[U]</td>\n      <td>9ed</td>\n      <td>common</td>\n      <td>1</td>\n      <td>2</td>\n      <td>...</td>\n      <td>1</td>\n      <td>0</td>\n      <td>1</td>\n      <td>0</td>\n      <td>1</td>\n      <td>0</td>\n      <td>0</td>\n      <td>1</td>\n      <td>0</td>\n      <td>0</td>\n    </tr>\n    <tr>\n      <th>4</th>\n      <td>b125d1e7-5d9b-4997-88b0-71bdfc19c6f2</td>\n      <td>Walking Sponge</td>\n      <td>https://scryfall.com/card/ulg/47/walking-spong...</td>\n      <td>2.0</td>\n      <td>[U]</td>\n      <td>[U]</td>\n      <td>ulg</td>\n      <td>uncommon</td>\n      <td>1</td>\n      <td>1</td>\n      <td>...</td>\n      <td>1</td>\n      <td>0</td>\n      <td>1</td>\n      <td>0</td>\n      <td>1</td>\n      <td>0</td>\n      <td>0</td>\n      <td>1</td>\n      <td>0</td>\n      <td>0</td>\n    </tr>\n  </tbody>\n</table>\n<p>5 rows × 35 columns</p>\n</div>"
     },
     "metadata": {},
     "execution_count": 44
    }
   ],
   "source": [
    "kept_df.head()"
   ]
  },
  {
   "cell_type": "code",
   "execution_count": 188,
   "metadata": {},
   "outputs": [],
   "source": [
    "modern_legal = kept_df.loc[kept_df['modern'] == 1]"
   ]
  },
  {
   "cell_type": "code",
   "execution_count": 189,
   "metadata": {},
   "outputs": [
    {
     "data": {
      "text/plain": [
       "Index(['id', 'name', 'scryfall_uri', 'cmc', 'colors', 'color_identity', 'set',\n",
       "       'rarity', 'power', 'toughness', 'loyalty', 'legalities',\n",
       "       'legalities_fixed', 'standard', 'future', 'historic', 'gladiator',\n",
       "       'pioneer', 'modern', 'legacy', 'pauper', 'vintage', 'penny',\n",
       "       'commander', 'brawl', 'duel', 'oldschool', 'premodern', 'R', 'G', 'U',\n",
       "       'B', 'W'],\n",
       "      dtype='object')"
      ]
     },
     "execution_count": 189,
     "metadata": {},
     "output_type": "execute_result"
    }
   ],
   "source": [
    "modern_legal.columns"
   ]
  },
  {
   "cell_type": "code",
   "execution_count": 156,
   "metadata": {},
   "outputs": [],
   "source": [
    "def get_colors(deck_df):\n",
    "    colors_in_deck = {'R':0,'U':0,'W':0,'G':0,'B':0,'C':0}\n",
    "    for x in deck_df['colors']:\n",
    "        try:\n",
    "            if len(x) > 0:\n",
    "                for color in x:\n",
    "                    colors_in_deck[color] += 1\n",
    "            else:\n",
    "                colors_in_deck['C'] += 1\n",
    "        except Exception as e:\n",
    "            colors_in_deck['C'] += 1\n",
    "    \n",
    "    return {x:colors_in_deck[x]//2 for x in colors_in_deck}"
   ]
  },
  {
   "cell_type": "code",
   "execution_count": 157,
   "metadata": {},
   "outputs": [],
   "source": [
    "land_names_mapping = {'R':'Mountain', 'G':'Forest','U':'Island','B':'Swamp','W':'Plains', 'C':'Wastes'}"
   ]
  },
  {
   "cell_type": "code",
   "execution_count": 158,
   "metadata": {},
   "outputs": [],
   "source": [
    "deck_counter=0"
   ]
  },
  {
   "cell_type": "code",
   "execution_count": 159,
   "metadata": {},
   "outputs": [],
   "source": [
    "from collections import Counter "
   ]
  },
  {
   "cell_type": "code",
   "execution_count": 283,
   "metadata": {},
   "outputs": [],
   "source": [
    "def output_deck(deck_df):\n",
    "    global deck_counter\n",
    "    deck_counter += 1\n",
    "    lands = get_colors(deck_df)\n",
    "    k = Counter(lands)\n",
    "    name = ''.join([x[0] for x in k.most_common(3)])\n",
    "    with open(f'decks/{name}_{deck_counter}.txt', 'w') as f:\n",
    "        for name,value in deck_df['name'].value_counts().iteritems():\n",
    "            f.write(f'{value} {name}\\n')\n",
    "        counter = 0\n",
    "        for x in lands:\n",
    "            if counter + lands[x] > 20:\n",
    "                f.write(f'{20 - counter} {land_names_mapping[x]}\\n')\n",
    "                break\n",
    "            else:\n",
    "                f.write(f'{lands[x]} {land_names_mapping[x]}\\n')\n",
    "                counter += lands[x]\n",
    "            "
   ]
  },
  {
   "cell_type": "code",
   "execution_count": 284,
   "metadata": {},
   "outputs": [],
   "source": [
    "def elements_in_list(one, two):\n",
    "    colors_in_row = [key for key in one.keys() if one[key] == 1]\n",
    "    for x in colors_in_row:\n",
    "        if x not in two:\n",
    "            return False\n",
    "    return True"
   ]
  },
  {
   "cell_type": "code",
   "execution_count": 286,
   "metadata": {
    "scrolled": true
   },
   "outputs": [],
   "source": [
    "for x in range(0,100):\n",
    "    num_colors = random.randint(10,50)//10\n",
    "    selected_colors = random.sample(colors,num_colors)\n",
    "    selected_color_cards = modern_legal.loc[[elements_in_list(row, selected_colors) for index,row in modern_legal[colors].iterrows()]]\n",
    "    output_deck(selected_color_cards.sample(n=40, replace=True)[['name','cmc','colors']])"
   ]
  },
  {
   "cell_type": "code",
   "execution_count": 21,
   "metadata": {},
   "outputs": [],
   "source": [
    "from itertools import combinations as c"
   ]
  },
  {
   "cell_type": "code",
   "execution_count": 26,
   "metadata": {},
   "outputs": [],
   "source": [
    "possible_combos = []\n",
    "\n",
    "for x in range(1,6):\n",
    "    possible_combos.extend(c(''.join(colors), x))"
   ]
  },
  {
   "cell_type": "code",
   "execution_count": 38,
   "metadata": {},
   "outputs": [],
   "source": [
    "possible_combos_str = [','.join(x)+'\\n' for x in possible_combos]"
   ]
  },
  {
   "cell_type": "code",
   "execution_count": 39,
   "metadata": {},
   "outputs": [
    {
     "output_type": "execute_result",
     "data": {
      "text/plain": [
       "['R\\n',\n",
       " 'G\\n',\n",
       " 'U\\n',\n",
       " 'B\\n',\n",
       " 'W\\n',\n",
       " 'R,G\\n',\n",
       " 'R,U\\n',\n",
       " 'R,B\\n',\n",
       " 'R,W\\n',\n",
       " 'G,U\\n',\n",
       " 'G,B\\n',\n",
       " 'G,W\\n',\n",
       " 'U,B\\n',\n",
       " 'U,W\\n',\n",
       " 'B,W\\n',\n",
       " 'R,G,U\\n',\n",
       " 'R,G,B\\n',\n",
       " 'R,G,W\\n',\n",
       " 'R,U,B\\n',\n",
       " 'R,U,W\\n',\n",
       " 'R,B,W\\n',\n",
       " 'G,U,B\\n',\n",
       " 'G,U,W\\n',\n",
       " 'G,B,W\\n',\n",
       " 'U,B,W\\n',\n",
       " 'R,G,U,B\\n',\n",
       " 'R,G,U,W\\n',\n",
       " 'R,G,B,W\\n',\n",
       " 'R,U,B,W\\n',\n",
       " 'G,U,B,W\\n',\n",
       " 'R,G,U,B,W\\n']"
      ]
     },
     "metadata": {},
     "execution_count": 39
    }
   ],
   "source": [
    "possible_combos_str"
   ]
  },
  {
   "cell_type": "code",
   "execution_count": 42,
   "metadata": {},
   "outputs": [],
   "source": [
    "with open('colors_combos.txt', 'w') as f:\n",
    "    f.writelines(possible_combos_str)"
   ]
  },
  {
   "cell_type": "code",
   "execution_count": 43,
   "metadata": {},
   "outputs": [
    {
     "output_type": "stream",
     "name": "stdout",
     "text": [
      "['R', 'G', 'U', 'B', 'W', 'R,G', 'R,U', 'R,B', 'R,W', 'G,U', 'G,B', 'G,W', 'U,B', 'U,W', 'B,W', 'R,G,U', 'R,G,B', 'R,G,W', 'R,U,B', 'R,U,W', 'R,B,W', 'G,U,B', 'G,U,W', 'G,B,W', 'U,B,W', 'R,G,U,B', 'R,G,U,W', 'R,G,B,W', 'R,U,B,W', 'G,U,B,W', 'R,G,U,B,W']\n"
     ]
    }
   ],
   "source": [
    "with open('colors_combos.txt', 'r') as f:\n",
    "    print([x[:-1] for x in f.readlines()])"
   ]
  },
  {
   "cell_type": "code",
   "execution_count": null,
   "metadata": {},
   "outputs": [],
   "source": []
  }
 ],
 "metadata": {
  "kernelspec": {
   "display_name": "Python 3",
   "language": "python",
   "name": "python3"
  },
  "language_info": {
   "codemirror_mode": {
    "name": "ipython",
    "version": 3
   },
   "file_extension": ".py",
   "mimetype": "text/x-python",
   "name": "python",
   "nbconvert_exporter": "python",
   "pygments_lexer": "ipython3",
   "version": "3.9.0-final"
  }
 },
 "nbformat": 4,
 "nbformat_minor": 4
}